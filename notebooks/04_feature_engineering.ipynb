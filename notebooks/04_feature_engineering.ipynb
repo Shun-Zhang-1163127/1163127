{
 "cells": [
  {
   "cell_type": "markdown",
   "metadata": {},
   "source": [
    "# Feature Engineering for Lending Club Data\n",
    "## COMP647 Assignment 03\n",
    "### Student ID: 1163127\n",
    "\n",
    "This notebook implements feature engineering techniques including:\n",
    "- Data loading and initial exploration\n",
    "- Categorical encoding methods\n",
    "- Feature scaling techniques\n",
    "\n",
    "Based on LAB4 materials and course teachings."
   ]
  },
  {
   "cell_type": "code",
   "execution_count": null,
   "metadata": {},
   "outputs": [],
   "source": [
    "# Import essential libraries\n",
    "import pandas as pd\n",
    "import numpy as np\n",
    "import matplotlib.pyplot as plt\n",
    "import seaborn as sns\n",
    "import warnings\n",
    "warnings.filterwarnings('ignore')\n",
    "\n",
    "# Set random seed for reproducibility\n",
    "np.random.seed(42)\n",
    "\n",
    "# Configure display options\n",
    "pd.set_option('display.max_columns', None)\n",
    "pd.set_option('display.max_rows', 20)"
   ]
  },
  {
   "cell_type": "code",
   "execution_count": null,
   "metadata": {},
   "outputs": [],
   "source": [
    "# Load preprocessed data from Assignment 02\n",
    "try:\n",
    "    # Load the processed sample data\n",
    "    df = pd.read_csv('../data/processed/accepted_sample_10000.csv')\n",
    "    print(f\"Data loaded successfully: {df.shape}\")\n",
    "    print(f\"Columns: {len(df.columns)}\")\n",
    "except FileNotFoundError:\n",
    "    print(\"Processed data not found. Please run Assignment 02 notebooks first.\")\n",
    "    # For demonstration, create sample data structure\n",
    "    df = pd.DataFrame()\n",
    "\n",
    "# Display basic info about the dataset\n",
    "if not df.empty:\n",
    "    print(\"\\nDataset Info:\")\n",
    "    print(df.info())"
   ]
  }
 ],
 "metadata": {
  "kernelspec": {
   "display_name": "Python 3",
   "language": "python",
   "name": "python3"
  },
  "language_info": {
   "codemirror_mode": {
    "name": "ipython",
    "version": 3
   },
   "file_extension": ".py",
   "mimetype": "text/x-python",
   "name": "python",
   "nbconvert_exporter": "python",
   "pygments_lexer": "ipython3",
   "version": "3.8.5"
  }
 },
 "nbformat": 4,
 "nbformat_minor": 4
}