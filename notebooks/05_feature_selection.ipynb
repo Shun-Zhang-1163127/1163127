{
 "cells": [
  {
   "cell_type": "code",
   "source": "# ANOVA F-test Implementation\n# Based on LAB5 materials - for numerical features with classification target\n\ndef apply_anova_ftest(X, y, k=10):\n    \"\"\"\n    Apply ANOVA F-test for feature selection\n    \n    Parameters:\n    X: DataFrame with numerical features\n    y: target variable (classification)\n    k: number of top features to select\n    \n    Returns:\n    selected_features: list of selected feature names\n    scores: F-scores for all features\n    selector: fitted selector for transform\n    \"\"\"\n    print(\"Applying ANOVA F-test...\")\n    print(f\"ANOVA F-test measures the linear dependency between features and target\")\n    print(f\"Higher F-scores indicate stronger linear relationship\")\n    \n    # Apply ANOVA F-test\n    selector = SelectKBest(score_func=f_classif, k=k)\n    X_selected = selector.fit_transform(X, y)\n    \n    # Get feature names and scores\n    selected_features = X.columns[selector.get_support()].tolist()\n    feature_scores = selector.scores_\n    \n    # Create results DataFrame\n    results_df = pd.DataFrame({\n        'feature': X.columns,\n        'f_score': feature_scores,\n        'selected': selector.get_support()\n    }).sort_values('f_score', ascending=False)\n    \n    print(f\"\\nSelected {len(selected_features)} features using ANOVA F-test:\")\n    for i, feature in enumerate(selected_features[:5]):\n        score = results_df[results_df['feature'] == feature]['f_score'].iloc[0]\n        print(f\"  {i+1}. {feature}: F-score = {score:.2f}\")\n    \n    if len(selected_features) > 5:\n        print(f\"  ... and {len(selected_features) - 5} more features\")\n    \n    return selected_features, results_df, selector\n\n# Example usage with numerical features\nif not df.empty:\n    # Prepare numerical features and target\n    numerical_features = df.select_dtypes(include=[np.number]).columns.tolist()\n    \n    # Remove ID columns and target from features\n    numerical_features = [col for col in numerical_features \n                         if not col.lower().endswith('_id') and col != 'loan_status']\n    \n    if len(numerical_features) >= 5 and target_column:\n        # Prepare data\n        X_numerical = df[numerical_features].fillna(df[numerical_features].mean())\n        \n        # Create binary target if needed\n        if df[target_column].nunique() == 2:\n            y = df[target_column]\n        else:\n            # Convert to binary classification\n            le = LabelEncoder()\n            y = le.fit_transform(df[target_column].fillna('Unknown'))\n        \n        print(f\"Demonstrating ANOVA F-test on {len(numerical_features)} numerical features\")\n        \n        # Apply ANOVA F-test\n        selected_anova, anova_results, anova_selector = apply_anova_ftest(\n            X_numerical, y, k=min(10, len(numerical_features))\n        )\n        \n        # Visualize top features\n        plt.figure(figsize=(12, 6))\n        top_features = anova_results.head(15)\n        plt.bar(range(len(top_features)), top_features['f_score'])\n        plt.xticks(range(len(top_features)), top_features['feature'], rotation=45, ha='right')\n        plt.title('Top 15 Features by ANOVA F-test Score')\n        plt.xlabel('Features')\n        plt.ylabel('F-Score')\n        plt.tight_layout()\n        plt.show()\n    else:\n        print(\"ANOVA F-test demonstration requires numerical features and target variable\")\nelse:\n    print(\"No data available for ANOVA F-test demonstration\")",
   "metadata": {},
   "execution_count": null,
   "outputs": []
  },
  {
   "cell_type": "markdown",
   "source": "## Univariate Statistical Tests\n### ANOVA F-test for Numerical Features\nBased on LAB5 materials - measures linear dependency between features and target",
   "metadata": {}
  },
  {
   "cell_type": "markdown",
   "metadata": {},
   "source": [
    "# Feature Selection for Lending Club Data\n",
    "## COMP647 Assignment 03\n",
    "### Student ID: 1163127\n",
    "\n",
    "This notebook implements feature selection techniques including:\n",
    "- Univariate statistical tests (ANOVA, Chi-Square)\n",
    "- Wrapper methods (Forward/Backward selection)\n",
    "- Embedded methods (Random Forest importance)\n",
    "\n",
    "Based on LAB5 materials and course teachings."
   ]
  },
  {
   "cell_type": "code",
   "execution_count": null,
   "metadata": {},
   "outputs": [],
   "source": [
    "# Import essential libraries\n",
    "import pandas as pd\n",
    "import numpy as np\n",
    "import matplotlib.pyplot as plt\n",
    "import seaborn as sns\n",
    "import warnings\n",
    "warnings.filterwarnings('ignore')\n",
    "\n",
    "# Feature selection libraries\n",
    "from sklearn.feature_selection import (\n",
    "    SelectKBest, f_classif, chi2, \n",
    "    RFE, RFECV,\n",
    "    SelectFromModel\n",
    ")\n",
    "from sklearn.ensemble import RandomForestClassifier\n",
    "from sklearn.linear_model import LogisticRegression\n",
    "from sklearn.preprocessing import LabelEncoder, StandardScaler\n",
    "from sklearn.model_selection import train_test_split\n",
    "\n",
    "# Set random seed for reproducibility\n",
    "np.random.seed(42)\n",
    "\n",
    "# Configure display options\n",
    "pd.set_option('display.max_columns', None)\n",
    "pd.set_option('display.max_rows', 20)"
   ]
  },
  {
   "cell_type": "code",
   "execution_count": null,
   "metadata": {},
   "outputs": [],
   "source": [
    "# Load preprocessed data from previous notebooks\n",
    "try:\n",
    "    # Load the processed sample data\n",
    "    df = pd.read_csv('../data/processed/accepted_sample_10000.csv')\n",
    "    print(f\"Data loaded successfully: {df.shape}\")\n",
    "    print(f\"Columns: {len(df.columns)}\")\n",
    "except FileNotFoundError:\n",
    "    print(\"Processed data not found. Please run Assignment 02 notebooks first.\")\n",
    "    # Create sample data for demonstration\n",
    "    df = pd.DataFrame()\n",
    "\n",
    "# Display basic info about the dataset\n",
    "if not df.empty:\n",
    "    print(\"\\nDataset Info:\")\n",
    "    print(df.info())\n",
    "    \n",
    "    # Identify target variable (loan status)\n",
    "    target_column = 'loan_status' if 'loan_status' in df.columns else None\n",
    "    if target_column:\n",
    "        print(f\"\\nTarget variable: {target_column}\")\n",
    "        print(f\"Target distribution:\")\n",
    "        print(df[target_column].value_counts())\n",
    "    else:\n",
    "        print(\"\\nWarning: loan_status column not found. Will create binary target for demonstration.\")"
   ]
  }
 ],
 "metadata": {
  "kernelspec": {
   "display_name": "Python 3",
   "language": "python",
   "name": "python3"
  },
  "language_info": {
   "codemirror_mode": {
    "name": "ipython",
    "version": 3
   },
   "file_extension": ".py",
   "mimetype": "text/x-python",
   "name": "python",
   "nbconvert_exporter": "python",
   "pygments_lexer": "ipython3",
   "version": "3.9.0"
  }
 },
 "nbformat": 4,
 "nbformat_minor": 4
}